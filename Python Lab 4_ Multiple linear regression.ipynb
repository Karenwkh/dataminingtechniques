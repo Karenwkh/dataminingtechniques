{
 "cells": [
  {
   "cell_type": "code",
   "execution_count": 1,
   "metadata": {
    "colab": {
     "base_uri": "https://localhost:8080/",
     "height": 286
    },
    "colab_type": "code",
    "executionInfo": {
     "elapsed": 2437,
     "status": "ok",
     "timestamp": 1591754798760,
     "user": {
      "displayName": "Kit Wong",
      "photoUrl": "",
      "userId": "10862399683929485800"
     },
     "user_tz": -480
    },
    "id": "v33BN82m52hJ",
    "outputId": "ec3c5458-1ee1-4fc2-ff9e-7a115eeeda27"
   },
   "outputs": [
    {
     "name": "stderr",
     "output_type": "stream",
     "text": [
      "/usr/local/lib/python3.6/dist-packages/statsmodels/tools/_testing.py:19: FutureWarning: pandas.util.testing is deprecated. Use the functions in the public API at pandas.testing instead.\n",
      "  import pandas.util.testing as tm\n"
     ]
    },
    {
     "data": {
      "text/html": [
       "<div>\n",
       "<style scoped>\n",
       "    .dataframe tbody tr th:only-of-type {\n",
       "        vertical-align: middle;\n",
       "    }\n",
       "\n",
       "    .dataframe tbody tr th {\n",
       "        vertical-align: top;\n",
       "    }\n",
       "\n",
       "    .dataframe thead th {\n",
       "        text-align: right;\n",
       "    }\n",
       "</style>\n",
       "<table border=\"1\" class=\"dataframe\">\n",
       "  <thead>\n",
       "    <tr style=\"text-align: right;\">\n",
       "      <th></th>\n",
       "      <th>violent</th>\n",
       "      <th>murder</th>\n",
       "      <th>hs_grad</th>\n",
       "      <th>poverty</th>\n",
       "      <th>single</th>\n",
       "      <th>white</th>\n",
       "      <th>urban</th>\n",
       "    </tr>\n",
       "    <tr>\n",
       "      <th>state</th>\n",
       "      <th></th>\n",
       "      <th></th>\n",
       "      <th></th>\n",
       "      <th></th>\n",
       "      <th></th>\n",
       "      <th></th>\n",
       "      <th></th>\n",
       "    </tr>\n",
       "  </thead>\n",
       "  <tbody>\n",
       "    <tr>\n",
       "      <th>Alabama</th>\n",
       "      <td>459.9</td>\n",
       "      <td>7.1</td>\n",
       "      <td>82.1</td>\n",
       "      <td>17.5</td>\n",
       "      <td>29.0</td>\n",
       "      <td>70.0</td>\n",
       "      <td>48.65</td>\n",
       "    </tr>\n",
       "    <tr>\n",
       "      <th>Alaska</th>\n",
       "      <td>632.6</td>\n",
       "      <td>3.2</td>\n",
       "      <td>91.4</td>\n",
       "      <td>9.0</td>\n",
       "      <td>25.5</td>\n",
       "      <td>68.3</td>\n",
       "      <td>44.46</td>\n",
       "    </tr>\n",
       "    <tr>\n",
       "      <th>Arizona</th>\n",
       "      <td>423.2</td>\n",
       "      <td>5.5</td>\n",
       "      <td>84.2</td>\n",
       "      <td>16.5</td>\n",
       "      <td>25.7</td>\n",
       "      <td>80.0</td>\n",
       "      <td>80.07</td>\n",
       "    </tr>\n",
       "    <tr>\n",
       "      <th>Arkansas</th>\n",
       "      <td>530.3</td>\n",
       "      <td>6.3</td>\n",
       "      <td>82.4</td>\n",
       "      <td>18.8</td>\n",
       "      <td>26.3</td>\n",
       "      <td>78.4</td>\n",
       "      <td>39.54</td>\n",
       "    </tr>\n",
       "    <tr>\n",
       "      <th>California</th>\n",
       "      <td>473.4</td>\n",
       "      <td>5.4</td>\n",
       "      <td>80.6</td>\n",
       "      <td>14.2</td>\n",
       "      <td>27.8</td>\n",
       "      <td>62.7</td>\n",
       "      <td>89.73</td>\n",
       "    </tr>\n",
       "  </tbody>\n",
       "</table>\n",
       "</div>"
      ],
      "text/plain": [
       "            violent  murder  hs_grad  poverty  single  white  urban\n",
       "state                                                              \n",
       "Alabama       459.9     7.1     82.1     17.5    29.0   70.0  48.65\n",
       "Alaska        632.6     3.2     91.4      9.0    25.5   68.3  44.46\n",
       "Arizona       423.2     5.5     84.2     16.5    25.7   80.0  80.07\n",
       "Arkansas      530.3     6.3     82.4     18.8    26.3   78.4  39.54\n",
       "California    473.4     5.4     80.6     14.2    27.8   62.7  89.73"
      ]
     },
     "execution_count": 1,
     "metadata": {
      "tags": []
     },
     "output_type": "execute_result"
    }
   ],
   "source": [
    "#@title Python Lab 4 {display-mode: \"form\"}\n",
    "#@markdown ##Understanding simple and multiple linear regression\n",
    "#@markdown In this lab we have the following learning objectives: \n",
    "#@markdown \n",
    "#@markdown 1. To build a linear regression model from data and interpret its regression coefficients. \n",
    "#@markdown 1. To assess the fit of the regression model. \n",
    "#@markdown 1. To obtain predictions from the model. \n",
    "\n",
    "import statsmodels.api as sm\n",
    "crime = sm.datasets.statecrime.load_pandas()\n",
    "crime.data.head(5)"
   ]
  },
  {
   "cell_type": "code",
   "execution_count": 2,
   "metadata": {
    "cellView": "both",
    "colab": {
     "base_uri": "https://localhost:8080/",
     "height": 568
    },
    "colab_type": "code",
    "executionInfo": {
     "elapsed": 3899,
     "status": "ok",
     "timestamp": 1591754800235,
     "user": {
      "displayName": "Kit Wong",
      "photoUrl": "",
      "userId": "10862399683929485800"
     },
     "user_tz": -480
    },
    "id": "bRojJd4oRLjQ",
    "outputId": "0799fe03-c36e-4de6-ab67-9ab0f6495966"
   },
   "outputs": [
    {
     "name": "stdout",
     "output_type": "stream",
     "text": [
      "                            OLS Regression Results                            \n",
      "==============================================================================\n",
      "Dep. Variable:                 murder   R-squared:                       0.820\n",
      "Model:                            OLS   Adj. R-squared:                  0.800\n",
      "Method:                 Least Squares   F-statistic:                     41.02\n",
      "Date:                Wed, 10 Jun 2020   Prob (F-statistic):           1.14e-15\n",
      "Time:                        02:06:38   Log-Likelihood:                -94.102\n",
      "No. Observations:                  51   AIC:                             200.2\n",
      "Df Residuals:                      45   BIC:                             211.8\n",
      "Df Model:                           5                                         \n",
      "Covariance Type:            nonrobust                                         \n",
      "==============================================================================\n",
      "                 coef    std err          t      P>|t|      [0.025      0.975]\n",
      "------------------------------------------------------------------------------\n",
      "Intercept    -47.6761     12.303     -3.875      0.000     -72.455     -22.897\n",
      "hs_grad        0.2966      0.117      2.546      0.014       0.062       0.531\n",
      "poverty        0.3712      0.143      2.602      0.012       0.084       0.659\n",
      "single         0.7212      0.095      7.605      0.000       0.530       0.912\n",
      "white          0.0357      0.027      1.306      0.198      -0.019       0.091\n",
      "urban          0.0118      0.015      0.769      0.446      -0.019       0.043\n",
      "==============================================================================\n",
      "Omnibus:                        0.670   Durbin-Watson:                   2.698\n",
      "Prob(Omnibus):                  0.715   Jarque-Bera (JB):                0.148\n",
      "Skew:                           0.004   Prob(JB):                        0.929\n",
      "Kurtosis:                       3.263   Cond. No.                     7.27e+03\n",
      "==============================================================================\n",
      "\n",
      "Warnings:\n",
      "[1] Standard Errors assume that the covariance matrix of the errors is correctly specified.\n",
      "[2] The condition number is large, 7.27e+03. This might indicate that there are\n",
      "strong multicollinearity or other numerical problems.\n"
     ]
    }
   ],
   "source": [
    "#@markdown {display-mode: \"form\"}\n",
    "#@markdown We fit a linear regression model that predicts the murder rate from other covariates\n",
    "import statsmodels.formula.api as smf \n",
    "\n",
    "results = smf.ols('murder~hs_grad+poverty+single+white+urban', data=crime.data). \\\n",
    "  fit()\n",
    "  \n",
    "print(results.summary())"
   ]
  },
  {
   "cell_type": "markdown",
   "metadata": {
    "colab_type": "text",
    "id": "xU0ORx1EkQlJ"
   },
   "source": [
    "## Tutorial questions \n",
    "\n",
    "1. State the model predictors and response value? \n",
    "1. Asses the overall fit of the model? Is it good? \n",
    "1. Interpret the effect of each predictor on the murder rate. Take into account it's statistical significance, the confidence interval estimate of its regression coefficient. \n"
   ]
  },
  {
   "cell_type": "code",
   "execution_count": 3,
   "metadata": {
    "colab": {
     "base_uri": "https://localhost:8080/",
     "height": 542
    },
    "colab_type": "code",
    "executionInfo": {
     "elapsed": 3889,
     "status": "ok",
     "timestamp": 1591754800236,
     "user": {
      "displayName": "Kit Wong",
      "photoUrl": "",
      "userId": "10862399683929485800"
     },
     "user_tz": -480
    },
    "id": "UD6Krmq4RmLf",
    "outputId": "4d8594b1-2d60-4f35-b50f-b351b6c4587f"
   },
   "outputs": [
    {
     "data": {
      "image/png": "[encoded data removed]",
      "text/plain": [
       "<Figure size 720x576 with 6 Axes>"
      ]
     },
     "metadata": {
      "needs_background": "light",
      "tags": []
     },
     "output_type": "display_data"
    }
   ],
   "source": [
    "#@title Partial regression plot {display-mode: \"form\"}\n",
    "#@markdown The plots below show the estimated influence each covariate has on the murder rate taking into account the effects of other covariates. \n",
    "#@markdown\n",
    "#@markdown Notice that there is one data point which exerts disproportionate influence upon the model. \n",
    "\n",
    "%matplotlib inline \n",
    "import matplotlib.pyplot as plt\n",
    "\n",
    "def make_regression_plot(plotf, results, **plotfkwargs): \n",
    "  fig = plotf(results, **plotfkwargs)\n",
    "  fig.set_figheight(8) \n",
    "  fig.set_figwidth(10)\n",
    "\n",
    "from statsmodels.graphics.api import plot_partregress_grid\n",
    "\n",
    "make_regression_plot(plot_partregress_grid, results) \n",
    "\n",
    "# Identifying outlier point\n",
    "# from statsmodels.graphics.api import plot_leverage_resid2 \n",
    "\n",
    "# make_regression_plot(plot_leverage_resid2, results)"
   ]
  },
  {
   "cell_type": "code",
   "execution_count": 5,
   "metadata": {
    "cellView": "both",
    "colab": {
     "base_uri": "https://localhost:8080/",
     "height": 70
    },
    "colab_type": "code",
    "executionInfo": {
     "elapsed": 865,
     "status": "ok",
     "timestamp": 1591754823121,
     "user": {
      "displayName": "Kit Wong",
      "photoUrl": "",
      "userId": "10862399683929485800"
     },
     "user_tz": -480
    },
    "id": "hjuPxdCYqWOZ",
    "outputId": "3d9b478e-fc1f-4ef8-9801-edd95827dc6b"
   },
   "outputs": [
    {
     "name": "stdout",
     "output_type": "stream",
     "text": [
      "Predict ci 95% low\tPredict ci 95% upp\n",
      "================================================================================\n",
      "17.79733605175278\t26.536727889684393\n"
     ]
    }
   ],
   "source": [
    "#@markdown Determine the 95% prediction interval for the state of California {display-mode:\"form\"}\n",
    "state = \"District of Columbia\" #@param [\"Alabama\", \"Alaska\", \"Arizona\", \"Arkansas\", \"California\", \"Colorado\", \"Connecticut\", \"Delaware\", \"District of Columbia\", \"Florida\", \"Georgia\", \"Hawaii\", \"Idaho\", \"Illinois\", \"Indiana\", \"Iowa\", \"Kansas \", \"Kentucky \", \"Louisiana\", \"Maine\", \"Maryland\", \"Massachusetts\", \"Michigan\", \"Minnesota\", \"Mississippi\", \"Missouri\", \"Montana \", \"Nebraska\", \"Nevada\", \"New Hampshire\", \"New Jersey\", \"New Mexico\", \"New York\", \"North Carolina\", \"North Dakota\", \"Ohio\", \"Oklahoma\", \"Oregon\", \"Pennsylvania\", \"Rhode Island\", \"South Carolina\", \"South Dakota\", \"Tennessee\", \"Texas\", \"Utah\", \"Vermont\", \"Virginia\", \"Washington\", \"West Virginia\", \"Wisconsin\", \"Wyoming\"]\n",
    "conf = 0.95 #@param {type:\"slider\", min:0.8, max:0.99, step:0.01}\n",
    "\n",
    "from statsmodels.stats.outliers_influence import summary_table \n",
    "import numpy as np\n",
    "import pandas as pd\n",
    "import shutil \n",
    "from toolz import curry\n",
    "\n",
    "WIDTH, _ = shutil.get_terminal_size()\n",
    "__, data, cols = summary_table(results, alpha=1-conf)\n",
    "i = np.argwhere(crime.data.index==state)\n",
    "\n",
    "@curry\n",
    "def modify_header(conf, s): \n",
    "  import re \n",
    "  return re.sub(r'\\n\\d+%', ' {}%'.format(int(conf*100)),s)\n",
    "    \n",
    "print(*map(modify_header(conf), cols[6:8]), sep='\\t')\n",
    "print('='*WIDTH)\n",
    "print(*data[i, 6:8].ravel(), sep='\\t')"
   ]
  },
  {
   "cell_type": "code",
   "execution_count": 0,
   "metadata": {
    "colab": {},
    "colab_type": "code",
    "id": "vYp37XFm5oic"
   },
   "outputs": [],
   "source": []
  }
 ],
 "metadata": {
  "colab": {
   "collapsed_sections": [],
   "name": "Python Lab 4_ Multiple linear regression.ipynb",
   "provenance": [
    {
     "file_id": "18VtTANcD3dN_IsZ18E4-qIAdHXTrowhP",
     "timestamp": 1590481382022
    }
   ]
  },
  "kernelspec": {
   "display_name": "Python 3",
   "language": "python",
   "name": "python3"
  },
  "language_info": {
   "codemirror_mode": {
    "name": "ipython",
    "version": 3
   },
   "file_extension": ".py",
   "mimetype": "text/x-python",
   "name": "python",
   "nbconvert_exporter": "python",
   "pygments_lexer": "ipython3",
   "version": "3.7.6"
  }
 },
 "nbformat": 4,
 "nbformat_minor": 1
}
